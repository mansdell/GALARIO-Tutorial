{
 "cells": [
  {
   "cell_type": "markdown",
   "id": "aec77585-1037-423d-a390-996668758c97",
   "metadata": {
    "tags": []
   },
   "source": [
    "### 1.0 Importing packages"
   ]
  },
  {
   "cell_type": "code",
   "execution_count": null,
   "id": "1af62c9e-e5c6-4dd5-b34f-8c5723698c52",
   "metadata": {},
   "outputs": [],
   "source": [
    "import numpy as np\n",
    "import pandas as pd"
   ]
  },
  {
   "cell_type": "markdown",
   "id": "96b37838-305b-4b9f-a09a-c343fc5286a7",
   "metadata": {},
   "source": [
    "### 2.0 Define Functions"
   ]
  },
  {
   "cell_type": "code",
   "execution_count": 2,
   "id": "9d89502b-1e90-460a-a63f-27d61a7bd2f6",
   "metadata": {
    "tags": []
   },
   "outputs": [],
   "source": [
    "def lnpriorfn(p, par_ranges):\n",
    "\n",
    "    \"\"\" Uniform prior probability function \"\"\"\n",
    "\n",
    "    for i in range(len(p)):\n",
    "        if p[i] < par_ranges[i][0] or p[i] > par_ranges[i][1]:\n",
    "            return -np.inf\n",
    "\n",
    "    jacob = -p[0]\n",
    "\n",
    "    return jacob"
   ]
  },
  {
   "cell_type": "markdown",
   "id": "a6d078a7-5008-41c1-ac4f-1427d91b0742",
   "metadata": {},
   "source": [
    "### 3.0 Main Code"
   ]
  },
  {
   "cell_type": "code",
   "execution_count": 5,
   "id": "6aae01e1-f09e-400f-bb52-b7c6672ec74e",
   "metadata": {
    "tags": []
   },
   "outputs": [
    {
     "name": "stdout",
     "output_type": "stream",
     "text": [
      "\n",
      "Emcee setup:\n",
      "   Steps = 3000\n",
      "   Walkers = 140\n",
      "   Threads = 5\n"
     ]
    }
   ],
   "source": [
    "### setup args\n",
    "args_nsteps = 3000\n",
    "args_nthreads = 5\n",
    "args_f0, args_sigma = 10.0, 1.0\n",
    "args_incl, args_pa = 30.0, 40.0\n",
    "args_dra, args_ddec = 0.000001, 0.00001\n",
    "args_r_in = 20.0\n",
    "print(\"\\nInputs:\")\n",
    "print(\"   Incl = \" + str(args_incl))\n",
    "print(\"   PA = \" + str(args_pa))\n",
    "print(\"   R_in = \" + str(nth))\n",
    "\n",
    "### setup mcmc\n",
    "p0 = [args_f0, args_sigma, args_r_in, args_incl, args_pa, args_dra, args_ddec]\n",
    "ndim = len(p0)\n",
    "nwalkers = ndim * 20 \n",
    "nsteps = int(args_nsteps / 5)\n",
    "tsteps = args_nsteps\n",
    "nthreads = args_nthreads\n",
    "print(\"\\nEmcee setup:\")\n",
    "print(\"   Steps = \" + str(tsteps))\n",
    "print(\"   Walkers = \" + str(nwalkers))\n",
    "print(\"   Threads = \" + str(nthreads))"
   ]
  },
  {
   "cell_type": "code",
   "execution_count": null,
   "id": "c1193a0a-c4c4-48f5-82cf-402ae8a8b1e1",
   "metadata": {},
   "outputs": [],
   "source": []
  }
 ],
 "metadata": {
  "kernelspec": {
   "display_name": "Python 3 (ipykernel)",
   "language": "python",
   "name": "python3"
  },
  "language_info": {
   "codemirror_mode": {
    "name": "ipython",
    "version": 3
   },
   "file_extension": ".py",
   "mimetype": "text/x-python",
   "name": "python",
   "nbconvert_exporter": "python",
   "pygments_lexer": "ipython3",
   "version": "3.11.7"
  }
 },
 "nbformat": 4,
 "nbformat_minor": 5
}
